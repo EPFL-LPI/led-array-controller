{
 "cells": [
  {
   "cell_type": "markdown",
   "metadata": {},
   "source": [
    "# LED Array Controller\n",
    "## For use with Tektronix PWS4305"
   ]
  },
  {
   "cell_type": "code",
   "execution_count": 2,
   "metadata": {},
   "outputs": [],
   "source": [
    "import power_supply_controller as psc"
   ]
  },
  {
   "cell_type": "code",
   "execution_count": 8,
   "metadata": {},
   "outputs": [],
   "source": [
    "class LedArray( psc.PowerSupply ):\n",
    "    \n",
    "    def __init__( self, timeout = 10, rid = None ):\n",
    "        psc.PowerSupply.__init__( self, timeout, rid )\n",
    "        self.__intensity = 0\n",
    "        \n",
    "        # model found by curve fitting intensity using reference cell\n",
    "        self.__itoc = lambda i: (\n",
    "              0.69688698* i**(2) \n",
    "            + 1.84788684* i \n",
    "            - 0.1645259*  i**(1/2)\n",
    "            + 0.0785805*  i**(1/3)\n",
    "        )\n",
    "        \n",
    "    #--- public methods ---   \n",
    "    @property\n",
    "    def intensity( self ):\n",
    "        return self.__intensity\n",
    "    \n",
    "    \n",
    "    @intensity.setter\n",
    "    def intensity( self, val ):\n",
    "        # safety\n",
    "        if val > 1.1:\n",
    "            raise ValueError( 'Intensity too high' )\n",
    "        \n",
    "        elif val < 0:\n",
    "            raise ValueError( 'Invalid intensity, below zero' )\n",
    "        \n",
    "        self.__intensity = val\n",
    "        self.current = self.__itoc( val )\n",
    "    \n",
    "    \n",
    "    @property \n",
    "    def model( self ):\n",
    "        return self.__itoc\n",
    "    \n",
    "    \n",
    "    def connect( self ):\n",
    "        psc.PowerSupply.connect( self )\n",
    "        # initialize power supply\n",
    "        self.off()\n",
    "        self.voltage = 21.5 # highest allowed voltage\n",
    "        "
   ]
  },
  {
   "cell_type": "code",
   "execution_count": 12,
   "metadata": {},
   "outputs": [],
   "source": [
    "lac = LedArray()"
   ]
  },
  {
   "cell_type": "code",
   "execution_count": 13,
   "metadata": {},
   "outputs": [
    {
     "data": {
      "text/plain": [
       "'Tektronix, PWS4305, C011451, 1.26-1.25'"
      ]
     },
     "execution_count": 13,
     "metadata": {},
     "output_type": "execute_result"
    }
   ],
   "source": [
    "lac.connect()\n",
    "lac.id"
   ]
  },
  {
   "cell_type": "code",
   "execution_count": 16,
   "metadata": {},
   "outputs": [],
   "source": [
    "del lac"
   ]
  },
  {
   "cell_type": "code",
   "execution_count": 14,
   "metadata": {},
   "outputs": [],
   "source": [
    "lac.intensity = 0.1"
   ]
  },
  {
   "cell_type": "code",
   "execution_count": 15,
   "metadata": {},
   "outputs": [],
   "source": [
    "lac.on()"
   ]
  },
  {
   "cell_type": "code",
   "execution_count": 57,
   "metadata": {},
   "outputs": [],
   "source": [
    "# lac.off()"
   ]
  },
  {
   "cell_type": "code",
   "execution_count": null,
   "metadata": {},
   "outputs": [],
   "source": []
  }
 ],
 "metadata": {
  "kernelspec": {
   "display_name": "Python 3",
   "language": "python",
   "name": "python3"
  },
  "language_info": {
   "codemirror_mode": {
    "name": "ipython",
    "version": 3
   },
   "file_extension": ".py",
   "mimetype": "text/x-python",
   "name": "python",
   "nbconvert_exporter": "python",
   "pygments_lexer": "ipython3",
   "version": "3.7.0"
  }
 },
 "nbformat": 4,
 "nbformat_minor": 2
}
